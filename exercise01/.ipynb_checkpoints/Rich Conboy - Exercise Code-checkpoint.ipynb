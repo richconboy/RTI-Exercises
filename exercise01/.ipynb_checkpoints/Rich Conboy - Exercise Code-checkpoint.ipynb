{
 "cells": [
  {
   "cell_type": "markdown",
   "metadata": {},
   "source": [
    "##RTI Data Challenge\n",
    "This notebook is in reference to the following challenge: https://github.com/rtidatascience/exercises/tree/master/exercise01"
   ]
  },
  {
   "cell_type": "markdown",
   "metadata": {},
   "source": [
    "###Task 1:\n",
    "**Write a SQL query that creates a consolidated dataset from the normalized tables in the database. In other words, write a SQL query that \"flattens\" the database to a single table.**\n",
    "\n",
    "First things first, let's initialize our connection to the SQLite DB we were provided with."
   ]
  },
  {
   "cell_type": "code",
   "execution_count": 18,
   "metadata": {
    "collapsed": false
   },
   "outputs": [],
   "source": [
    "#Initialize Connection to SQLite Database\n",
    "import sqlite3\n",
    "sqlite_file = 'exercise01.sqlite'\n",
    "conn = sqlite3.connect(sqlite_file)\n",
    "c = conn.cursor()"
   ]
  },
  {
   "cell_type": "markdown",
   "metadata": {},
   "source": [
    "Next, we need to do some exploration of the SQLite database to help us understand how to create our flat file.  We can use the code below to figure out how our database has been set up."
   ]
  },
  {
   "cell_type": "code",
   "execution_count": 52,
   "metadata": {
    "collapsed": false
   },
   "outputs": [
    {
     "name": "stdout",
     "output_type": "stream",
     "text": [
      "['type', 'name', 'tbl_name', 'rootpage', 'sql']\n"
     ]
    }
   ],
   "source": [
    "#This Code Tells me the Column Names in the SQLite Master Table\n",
    "c.execute(\"SELECT * FROM sqlite_master;\")\n",
    "column_names = [description[0] for description in c.description]\n",
    "print column_names"
   ]
  },
  {
   "cell_type": "markdown",
   "metadata": {},
   "source": [
    "Using the above output, we can write a query that shows how each of the database tables were created.  This way, we will be able to figure out how the data needs to be joined to eventually create our flat file."
   ]
  },
  {
   "cell_type": "code",
   "execution_count": 61,
   "metadata": {
    "collapsed": false
   },
   "outputs": [
    {
     "name": "stdout",
     "output_type": "stream",
     "text": [
      "Table Name: workclasses\n",
      "CREATE TABLE workclasses (\n",
      "\tid INTEGER NOT NULL, name TEXT, \n",
      "\tPRIMARY KEY (id)\n",
      ")\n",
      "Table Name: education_levels\n",
      "CREATE TABLE education_levels (\n",
      "\tid INTEGER NOT NULL, name TEXT, \n",
      "\tPRIMARY KEY (id)\n",
      ")\n",
      "Table Name: marital_statuses\n",
      "CREATE TABLE marital_statuses (\n",
      "\tid INTEGER NOT NULL, name TEXT, \n",
      "\tPRIMARY KEY (id)\n",
      ")\n",
      "Table Name: occupations\n",
      "CREATE TABLE occupations (\n",
      "\tid INTEGER NOT NULL, name TEXT, \n",
      "\tPRIMARY KEY (id)\n",
      ")\n",
      "Table Name: relationships\n",
      "CREATE TABLE relationships (\n",
      "\tid INTEGER NOT NULL, name TEXT, \n",
      "\tPRIMARY KEY (id)\n",
      ")\n",
      "Table Name: races\n",
      "CREATE TABLE races (\n",
      "\tid INTEGER NOT NULL, name TEXT, \n",
      "\tPRIMARY KEY (id)\n",
      ")\n",
      "Table Name: sexes\n",
      "CREATE TABLE sexes (\n",
      "\tid INTEGER NOT NULL, name TEXT, \n",
      "\tPRIMARY KEY (id)\n",
      ")\n",
      "Table Name: countries\n",
      "CREATE TABLE countries (\n",
      "\tid INTEGER NOT NULL, name TEXT, \n",
      "\tPRIMARY KEY (id)\n",
      ")\n",
      "Table Name: records\n",
      "CREATE TABLE records (\n",
      "\tid INTEGER NOT NULL, age INTEGER, workclass_id INTEGER, education_level_id INTEGER, education_num INTEGER, marital_status_id INTEGER, occupation_id INTEGER, relationship_id INTEGER, race_id INTEGER, sex_id INTEGER, capital_gain INTEGER, capital_loss INTEGER, hours_week INTEGER, country_id INTEGER, over_50k BOOLEAN, \n",
      "\tPRIMARY KEY (id)\n",
      ")\n"
     ]
    }
   ],
   "source": [
    "#Prints the sql column shown above\n",
    "c.execute(\"SELECT tbl_name, sql FROM sqlite_master where type = 'table';\")\n",
    "for object in c.fetchall():\n",
    "    print 'Table Name: ' + object[0]\n",
    "    print object[1]"
   ]
  },
  {
   "cell_type": "markdown",
   "metadata": {},
   "source": [
    "It looks like the 'records' table should be our starting point, so let's read it into Pandas."
   ]
  },
  {
   "cell_type": "code",
   "execution_count": 66,
   "metadata": {
    "collapsed": false
   },
   "outputs": [
    {
     "data": {
      "text/html": [
       "<div>\n",
       "<table border=\"1\" class=\"dataframe\">\n",
       "  <thead>\n",
       "    <tr style=\"text-align: right;\">\n",
       "      <th></th>\n",
       "      <th>id</th>\n",
       "      <th>age</th>\n",
       "      <th>workclass_id</th>\n",
       "      <th>education_level_id</th>\n",
       "      <th>education_num</th>\n",
       "      <th>marital_status_id</th>\n",
       "      <th>occupation_id</th>\n",
       "      <th>relationship_id</th>\n",
       "      <th>race_id</th>\n",
       "      <th>sex_id</th>\n",
       "      <th>capital_gain</th>\n",
       "      <th>capital_loss</th>\n",
       "      <th>hours_week</th>\n",
       "      <th>country_id</th>\n",
       "      <th>over_50k</th>\n",
       "    </tr>\n",
       "  </thead>\n",
       "  <tbody>\n",
       "    <tr>\n",
       "      <th>0</th>\n",
       "      <td>1</td>\n",
       "      <td>39</td>\n",
       "      <td>8</td>\n",
       "      <td>10</td>\n",
       "      <td>13</td>\n",
       "      <td>5</td>\n",
       "      <td>2</td>\n",
       "      <td>2</td>\n",
       "      <td>5</td>\n",
       "      <td>2</td>\n",
       "      <td>2174</td>\n",
       "      <td>0</td>\n",
       "      <td>40</td>\n",
       "      <td>40</td>\n",
       "      <td>0</td>\n",
       "    </tr>\n",
       "    <tr>\n",
       "      <th>1</th>\n",
       "      <td>2</td>\n",
       "      <td>50</td>\n",
       "      <td>7</td>\n",
       "      <td>10</td>\n",
       "      <td>13</td>\n",
       "      <td>3</td>\n",
       "      <td>5</td>\n",
       "      <td>1</td>\n",
       "      <td>5</td>\n",
       "      <td>2</td>\n",
       "      <td>0</td>\n",
       "      <td>0</td>\n",
       "      <td>13</td>\n",
       "      <td>40</td>\n",
       "      <td>0</td>\n",
       "    </tr>\n",
       "    <tr>\n",
       "      <th>2</th>\n",
       "      <td>3</td>\n",
       "      <td>38</td>\n",
       "      <td>5</td>\n",
       "      <td>12</td>\n",
       "      <td>9</td>\n",
       "      <td>1</td>\n",
       "      <td>7</td>\n",
       "      <td>2</td>\n",
       "      <td>5</td>\n",
       "      <td>2</td>\n",
       "      <td>0</td>\n",
       "      <td>0</td>\n",
       "      <td>40</td>\n",
       "      <td>40</td>\n",
       "      <td>0</td>\n",
       "    </tr>\n",
       "    <tr>\n",
       "      <th>3</th>\n",
       "      <td>4</td>\n",
       "      <td>53</td>\n",
       "      <td>5</td>\n",
       "      <td>2</td>\n",
       "      <td>7</td>\n",
       "      <td>3</td>\n",
       "      <td>7</td>\n",
       "      <td>1</td>\n",
       "      <td>3</td>\n",
       "      <td>2</td>\n",
       "      <td>0</td>\n",
       "      <td>0</td>\n",
       "      <td>40</td>\n",
       "      <td>40</td>\n",
       "      <td>0</td>\n",
       "    </tr>\n",
       "    <tr>\n",
       "      <th>4</th>\n",
       "      <td>5</td>\n",
       "      <td>28</td>\n",
       "      <td>5</td>\n",
       "      <td>10</td>\n",
       "      <td>13</td>\n",
       "      <td>3</td>\n",
       "      <td>11</td>\n",
       "      <td>6</td>\n",
       "      <td>3</td>\n",
       "      <td>1</td>\n",
       "      <td>0</td>\n",
       "      <td>0</td>\n",
       "      <td>40</td>\n",
       "      <td>6</td>\n",
       "      <td>0</td>\n",
       "    </tr>\n",
       "  </tbody>\n",
       "</table>\n",
       "</div>"
      ],
      "text/plain": [
       "   id  age  workclass_id  education_level_id  education_num  \\\n",
       "0   1   39             8                  10             13   \n",
       "1   2   50             7                  10             13   \n",
       "2   3   38             5                  12              9   \n",
       "3   4   53             5                   2              7   \n",
       "4   5   28             5                  10             13   \n",
       "\n",
       "   marital_status_id  occupation_id  relationship_id  race_id  sex_id  \\\n",
       "0                  5              2                2        5       2   \n",
       "1                  3              5                1        5       2   \n",
       "2                  1              7                2        5       2   \n",
       "3                  3              7                1        3       2   \n",
       "4                  3             11                6        3       1   \n",
       "\n",
       "   capital_gain  capital_loss  hours_week  country_id  over_50k  \n",
       "0          2174             0          40          40         0  \n",
       "1             0             0          13          40         0  \n",
       "2             0             0          40          40         0  \n",
       "3             0             0          40          40         0  \n",
       "4             0             0          40           6         0  "
      ]
     },
     "execution_count": 66,
     "metadata": {},
     "output_type": "execute_result"
    }
   ],
   "source": [
    "import pandas as pd\n",
    "records = pd.read_sql_query(\"SELECT * from records\", conn)\n",
    "records.head()"
   ]
  }
 ],
 "metadata": {
  "kernelspec": {
   "display_name": "Python 2",
   "language": "python",
   "name": "python2"
  },
  "language_info": {
   "codemirror_mode": {
    "name": "ipython",
    "version": 2
   },
   "file_extension": ".py",
   "mimetype": "text/x-python",
   "name": "python",
   "nbconvert_exporter": "python",
   "pygments_lexer": "ipython2",
   "version": "2.7.10"
  }
 },
 "nbformat": 4,
 "nbformat_minor": 0
}
