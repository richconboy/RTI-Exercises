{
 "cells": [
  {
   "cell_type": "markdown",
   "metadata": {},
   "source": [
    "##RTI Data Challenge\n",
    "This notebook is in reference to the following challenge: https://github.com/rtidatascience/exercises/tree/master/exercise01"
   ]
  },
  {
   "cell_type": "markdown",
   "metadata": {},
   "source": [
    "###Task 1:\n",
    "**Write a SQL query that creates a consolidated dataset from the normalized tables in the database. In other words, write a SQL query that \"flattens\" the database to a single table.**\n",
    "\n",
    "First things first, let's initialize our connection to the SQLite DB we were provided with."
   ]
  },
  {
   "cell_type": "code",
   "execution_count": 2,
   "metadata": {
    "collapsed": false
   },
   "outputs": [],
   "source": [
    "#Initialize Connection to SQLite Database\n",
    "import sqlite3\n",
    "sqlite_file = 'exercise01.sqlite'\n",
    "conn = sqlite3.connect(sqlite_file)\n",
    "c = conn.cursor()"
   ]
  },
  {
   "cell_type": "markdown",
   "metadata": {},
   "source": [
    "Next, we need to do some exploration of the SQLite database to help us understand how to create our flat file.  We can use the code below to figure out how our database has been set up."
   ]
  },
  {
   "cell_type": "code",
   "execution_count": 3,
   "metadata": {
    "collapsed": false
   },
   "outputs": [
    {
     "name": "stdout",
     "output_type": "stream",
     "text": [
      "['type', 'name', 'tbl_name', 'rootpage', 'sql']\n"
     ]
    }
   ],
   "source": [
    "#This Code Tells me the Column Names in the SQLite Master Table\n",
    "c.execute(\"SELECT * FROM sqlite_master;\")\n",
    "column_names = [description[0] for description in c.description]\n",
    "print column_names"
   ]
  },
  {
   "cell_type": "markdown",
   "metadata": {},
   "source": [
    "Using the above output, we can write a query that shows how each of the database tables were created.  This way, we will be able to figure out how the data needs to be joined to eventually create our flat file."
   ]
  },
  {
   "cell_type": "code",
   "execution_count": 4,
   "metadata": {
    "collapsed": false
   },
   "outputs": [
    {
     "name": "stdout",
     "output_type": "stream",
     "text": [
      "Table Name: workclasses\n",
      "CREATE TABLE workclasses (\n",
      "\tid INTEGER NOT NULL, name TEXT, \n",
      "\tPRIMARY KEY (id)\n",
      ")\n",
      "Table Name: education_levels\n",
      "CREATE TABLE education_levels (\n",
      "\tid INTEGER NOT NULL, name TEXT, \n",
      "\tPRIMARY KEY (id)\n",
      ")\n",
      "Table Name: marital_statuses\n",
      "CREATE TABLE marital_statuses (\n",
      "\tid INTEGER NOT NULL, name TEXT, \n",
      "\tPRIMARY KEY (id)\n",
      ")\n",
      "Table Name: occupations\n",
      "CREATE TABLE occupations (\n",
      "\tid INTEGER NOT NULL, name TEXT, \n",
      "\tPRIMARY KEY (id)\n",
      ")\n",
      "Table Name: relationships\n",
      "CREATE TABLE relationships (\n",
      "\tid INTEGER NOT NULL, name TEXT, \n",
      "\tPRIMARY KEY (id)\n",
      ")\n",
      "Table Name: races\n",
      "CREATE TABLE races (\n",
      "\tid INTEGER NOT NULL, name TEXT, \n",
      "\tPRIMARY KEY (id)\n",
      ")\n",
      "Table Name: sexes\n",
      "CREATE TABLE sexes (\n",
      "\tid INTEGER NOT NULL, name TEXT, \n",
      "\tPRIMARY KEY (id)\n",
      ")\n",
      "Table Name: countries\n",
      "CREATE TABLE countries (\n",
      "\tid INTEGER NOT NULL, name TEXT, \n",
      "\tPRIMARY KEY (id)\n",
      ")\n",
      "Table Name: records\n",
      "CREATE TABLE records (\n",
      "\tid INTEGER NOT NULL, age INTEGER, workclass_id INTEGER, education_level_id INTEGER, education_num INTEGER, marital_status_id INTEGER, occupation_id INTEGER, relationship_id INTEGER, race_id INTEGER, sex_id INTEGER, capital_gain INTEGER, capital_loss INTEGER, hours_week INTEGER, country_id INTEGER, over_50k BOOLEAN, \n",
      "\tPRIMARY KEY (id)\n",
      ")\n"
     ]
    }
   ],
   "source": [
    "#Prints the sql column shown above\n",
    "c.execute(\"SELECT tbl_name, sql FROM sqlite_master where type = 'table';\")\n",
    "for object in c.fetchall():\n",
    "    print 'Table Name: ' + object[0]\n",
    "    print object[1]"
   ]
  },
  {
   "cell_type": "markdown",
   "metadata": {},
   "source": [
    "It looks like the 'records' table should be our starting point, so let's read it into Pandas."
   ]
  },
  {
   "cell_type": "code",
   "execution_count": 5,
   "metadata": {
    "collapsed": false
   },
   "outputs": [
    {
     "data": {
      "text/html": [
       "<div>\n",
       "<table border=\"1\" class=\"dataframe\">\n",
       "  <thead>\n",
       "    <tr style=\"text-align: right;\">\n",
       "      <th></th>\n",
       "      <th>age</th>\n",
       "      <th>workclass_id</th>\n",
       "      <th>education_level_id</th>\n",
       "      <th>education_num</th>\n",
       "      <th>marital_status_id</th>\n",
       "      <th>occupation_id</th>\n",
       "      <th>relationship_id</th>\n",
       "      <th>race_id</th>\n",
       "      <th>sex_id</th>\n",
       "      <th>capital_gain</th>\n",
       "      <th>capital_loss</th>\n",
       "      <th>hours_week</th>\n",
       "      <th>country_id</th>\n",
       "      <th>over_50k</th>\n",
       "    </tr>\n",
       "    <tr>\n",
       "      <th>id</th>\n",
       "      <th></th>\n",
       "      <th></th>\n",
       "      <th></th>\n",
       "      <th></th>\n",
       "      <th></th>\n",
       "      <th></th>\n",
       "      <th></th>\n",
       "      <th></th>\n",
       "      <th></th>\n",
       "      <th></th>\n",
       "      <th></th>\n",
       "      <th></th>\n",
       "      <th></th>\n",
       "      <th></th>\n",
       "    </tr>\n",
       "  </thead>\n",
       "  <tbody>\n",
       "    <tr>\n",
       "      <th>1</th>\n",
       "      <td>39</td>\n",
       "      <td>8</td>\n",
       "      <td>10</td>\n",
       "      <td>13</td>\n",
       "      <td>5</td>\n",
       "      <td>2</td>\n",
       "      <td>2</td>\n",
       "      <td>5</td>\n",
       "      <td>2</td>\n",
       "      <td>2174</td>\n",
       "      <td>0</td>\n",
       "      <td>40</td>\n",
       "      <td>40</td>\n",
       "      <td>0</td>\n",
       "    </tr>\n",
       "    <tr>\n",
       "      <th>2</th>\n",
       "      <td>50</td>\n",
       "      <td>7</td>\n",
       "      <td>10</td>\n",
       "      <td>13</td>\n",
       "      <td>3</td>\n",
       "      <td>5</td>\n",
       "      <td>1</td>\n",
       "      <td>5</td>\n",
       "      <td>2</td>\n",
       "      <td>0</td>\n",
       "      <td>0</td>\n",
       "      <td>13</td>\n",
       "      <td>40</td>\n",
       "      <td>0</td>\n",
       "    </tr>\n",
       "    <tr>\n",
       "      <th>3</th>\n",
       "      <td>38</td>\n",
       "      <td>5</td>\n",
       "      <td>12</td>\n",
       "      <td>9</td>\n",
       "      <td>1</td>\n",
       "      <td>7</td>\n",
       "      <td>2</td>\n",
       "      <td>5</td>\n",
       "      <td>2</td>\n",
       "      <td>0</td>\n",
       "      <td>0</td>\n",
       "      <td>40</td>\n",
       "      <td>40</td>\n",
       "      <td>0</td>\n",
       "    </tr>\n",
       "    <tr>\n",
       "      <th>4</th>\n",
       "      <td>53</td>\n",
       "      <td>5</td>\n",
       "      <td>2</td>\n",
       "      <td>7</td>\n",
       "      <td>3</td>\n",
       "      <td>7</td>\n",
       "      <td>1</td>\n",
       "      <td>3</td>\n",
       "      <td>2</td>\n",
       "      <td>0</td>\n",
       "      <td>0</td>\n",
       "      <td>40</td>\n",
       "      <td>40</td>\n",
       "      <td>0</td>\n",
       "    </tr>\n",
       "    <tr>\n",
       "      <th>5</th>\n",
       "      <td>28</td>\n",
       "      <td>5</td>\n",
       "      <td>10</td>\n",
       "      <td>13</td>\n",
       "      <td>3</td>\n",
       "      <td>11</td>\n",
       "      <td>6</td>\n",
       "      <td>3</td>\n",
       "      <td>1</td>\n",
       "      <td>0</td>\n",
       "      <td>0</td>\n",
       "      <td>40</td>\n",
       "      <td>6</td>\n",
       "      <td>0</td>\n",
       "    </tr>\n",
       "  </tbody>\n",
       "</table>\n",
       "</div>"
      ],
      "text/plain": [
       "    age  workclass_id  education_level_id  education_num  marital_status_id  \\\n",
       "id                                                                            \n",
       "1    39             8                  10             13                  5   \n",
       "2    50             7                  10             13                  3   \n",
       "3    38             5                  12              9                  1   \n",
       "4    53             5                   2              7                  3   \n",
       "5    28             5                  10             13                  3   \n",
       "\n",
       "    occupation_id  relationship_id  race_id  sex_id  capital_gain  \\\n",
       "id                                                                  \n",
       "1               2                2        5       2          2174   \n",
       "2               5                1        5       2             0   \n",
       "3               7                2        5       2             0   \n",
       "4               7                1        3       2             0   \n",
       "5              11                6        3       1             0   \n",
       "\n",
       "    capital_loss  hours_week  country_id  over_50k  \n",
       "id                                                  \n",
       "1              0          40          40         0  \n",
       "2              0          13          40         0  \n",
       "3              0          40          40         0  \n",
       "4              0          40          40         0  \n",
       "5              0          40           6         0  "
      ]
     },
     "execution_count": 5,
     "metadata": {},
     "output_type": "execute_result"
    }
   ],
   "source": [
    "#Read 'records' database table into a Pandas DataFrame\n",
    "import pandas as pd\n",
    "records = pd.read_sql_query(\"SELECT * FROM records;\", conn, index_col='id')\n",
    "records.head()"
   ]
  },
  {
   "cell_type": "markdown",
   "metadata": {},
   "source": [
    "Now let's talk about joins. The columns ending in **\"_id\"** above are foreign keys that correspond to other tables in the database that contain the values associated with that categorical variable.  Below is an example for the column **\"workclass_id.\"**"
   ]
  },
  {
   "cell_type": "code",
   "execution_count": 6,
   "metadata": {
    "collapsed": false
   },
   "outputs": [
    {
     "data": {
      "text/html": [
       "<div>\n",
       "<table border=\"1\" class=\"dataframe\">\n",
       "  <thead>\n",
       "    <tr style=\"text-align: right;\">\n",
       "      <th></th>\n",
       "      <th>name</th>\n",
       "    </tr>\n",
       "    <tr>\n",
       "      <th>id</th>\n",
       "      <th></th>\n",
       "    </tr>\n",
       "  </thead>\n",
       "  <tbody>\n",
       "    <tr>\n",
       "      <th>1</th>\n",
       "      <td>?</td>\n",
       "    </tr>\n",
       "    <tr>\n",
       "      <th>2</th>\n",
       "      <td>Federal-gov</td>\n",
       "    </tr>\n",
       "    <tr>\n",
       "      <th>3</th>\n",
       "      <td>Local-gov</td>\n",
       "    </tr>\n",
       "    <tr>\n",
       "      <th>4</th>\n",
       "      <td>Never-worked</td>\n",
       "    </tr>\n",
       "    <tr>\n",
       "      <th>5</th>\n",
       "      <td>Private</td>\n",
       "    </tr>\n",
       "  </tbody>\n",
       "</table>\n",
       "</div>"
      ],
      "text/plain": [
       "            name\n",
       "id              \n",
       "1              ?\n",
       "2    Federal-gov\n",
       "3      Local-gov\n",
       "4   Never-worked\n",
       "5        Private"
      ]
     },
     "execution_count": 6,
     "metadata": {},
     "output_type": "execute_result"
    }
   ],
   "source": [
    "#Examine structure of 'workclasses' database table\n",
    "workclasses = pd.read_sql_query(\"SELECT * FROM workclasses;\", conn, index_col='id')\n",
    "workclasses.head()"
   ]
  },
  {
   "cell_type": "markdown",
   "metadata": {},
   "source": [
    "So, now that we know how that works.  Here is the code to create our master flat file, applying this same idealogy to all of the tables in our DB."
   ]
  },
  {
   "cell_type": "code",
   "execution_count": 7,
   "metadata": {
    "collapsed": false,
    "scrolled": true
   },
   "outputs": [
    {
     "data": {
      "text/html": [
       "<div>\n",
       "<table border=\"1\" class=\"dataframe\">\n",
       "  <thead>\n",
       "    <tr style=\"text-align: right;\">\n",
       "      <th></th>\n",
       "      <th>age</th>\n",
       "      <th>workclass</th>\n",
       "      <th>education_level</th>\n",
       "      <th>education_num</th>\n",
       "      <th>marital_status</th>\n",
       "      <th>occupation</th>\n",
       "      <th>relationship</th>\n",
       "      <th>race</th>\n",
       "      <th>sex</th>\n",
       "      <th>country</th>\n",
       "      <th>capital_gain</th>\n",
       "      <th>capital_loss</th>\n",
       "      <th>hours_week</th>\n",
       "      <th>over_50k</th>\n",
       "    </tr>\n",
       "    <tr>\n",
       "      <th>id</th>\n",
       "      <th></th>\n",
       "      <th></th>\n",
       "      <th></th>\n",
       "      <th></th>\n",
       "      <th></th>\n",
       "      <th></th>\n",
       "      <th></th>\n",
       "      <th></th>\n",
       "      <th></th>\n",
       "      <th></th>\n",
       "      <th></th>\n",
       "      <th></th>\n",
       "      <th></th>\n",
       "      <th></th>\n",
       "    </tr>\n",
       "  </thead>\n",
       "  <tbody>\n",
       "    <tr>\n",
       "      <th>1</th>\n",
       "      <td>39</td>\n",
       "      <td>State-gov</td>\n",
       "      <td>Bachelors</td>\n",
       "      <td>13</td>\n",
       "      <td>Never-married</td>\n",
       "      <td>Adm-clerical</td>\n",
       "      <td>Not-in-family</td>\n",
       "      <td>White</td>\n",
       "      <td>Male</td>\n",
       "      <td>United-States</td>\n",
       "      <td>2174</td>\n",
       "      <td>0</td>\n",
       "      <td>40</td>\n",
       "      <td>0</td>\n",
       "    </tr>\n",
       "    <tr>\n",
       "      <th>2</th>\n",
       "      <td>50</td>\n",
       "      <td>Self-emp-not-inc</td>\n",
       "      <td>Bachelors</td>\n",
       "      <td>13</td>\n",
       "      <td>Married-civ-spouse</td>\n",
       "      <td>Exec-managerial</td>\n",
       "      <td>Husband</td>\n",
       "      <td>White</td>\n",
       "      <td>Male</td>\n",
       "      <td>United-States</td>\n",
       "      <td>0</td>\n",
       "      <td>0</td>\n",
       "      <td>13</td>\n",
       "      <td>0</td>\n",
       "    </tr>\n",
       "    <tr>\n",
       "      <th>3</th>\n",
       "      <td>38</td>\n",
       "      <td>Private</td>\n",
       "      <td>HS-grad</td>\n",
       "      <td>9</td>\n",
       "      <td>Divorced</td>\n",
       "      <td>Handlers-cleaners</td>\n",
       "      <td>Not-in-family</td>\n",
       "      <td>White</td>\n",
       "      <td>Male</td>\n",
       "      <td>United-States</td>\n",
       "      <td>0</td>\n",
       "      <td>0</td>\n",
       "      <td>40</td>\n",
       "      <td>0</td>\n",
       "    </tr>\n",
       "    <tr>\n",
       "      <th>4</th>\n",
       "      <td>53</td>\n",
       "      <td>Private</td>\n",
       "      <td>11th</td>\n",
       "      <td>7</td>\n",
       "      <td>Married-civ-spouse</td>\n",
       "      <td>Handlers-cleaners</td>\n",
       "      <td>Husband</td>\n",
       "      <td>Black</td>\n",
       "      <td>Male</td>\n",
       "      <td>United-States</td>\n",
       "      <td>0</td>\n",
       "      <td>0</td>\n",
       "      <td>40</td>\n",
       "      <td>0</td>\n",
       "    </tr>\n",
       "    <tr>\n",
       "      <th>5</th>\n",
       "      <td>28</td>\n",
       "      <td>Private</td>\n",
       "      <td>Bachelors</td>\n",
       "      <td>13</td>\n",
       "      <td>Married-civ-spouse</td>\n",
       "      <td>Prof-specialty</td>\n",
       "      <td>Wife</td>\n",
       "      <td>Black</td>\n",
       "      <td>Female</td>\n",
       "      <td>Cuba</td>\n",
       "      <td>0</td>\n",
       "      <td>0</td>\n",
       "      <td>40</td>\n",
       "      <td>0</td>\n",
       "    </tr>\n",
       "  </tbody>\n",
       "</table>\n",
       "</div>"
      ],
      "text/plain": [
       "    age         workclass education_level  education_num      marital_status  \\\n",
       "id                                                                             \n",
       "1    39         State-gov       Bachelors             13       Never-married   \n",
       "2    50  Self-emp-not-inc       Bachelors             13  Married-civ-spouse   \n",
       "3    38           Private         HS-grad              9            Divorced   \n",
       "4    53           Private            11th              7  Married-civ-spouse   \n",
       "5    28           Private       Bachelors             13  Married-civ-spouse   \n",
       "\n",
       "           occupation   relationship   race     sex        country  \\\n",
       "id                                                                   \n",
       "1        Adm-clerical  Not-in-family  White    Male  United-States   \n",
       "2     Exec-managerial        Husband  White    Male  United-States   \n",
       "3   Handlers-cleaners  Not-in-family  White    Male  United-States   \n",
       "4   Handlers-cleaners        Husband  Black    Male  United-States   \n",
       "5      Prof-specialty           Wife  Black  Female           Cuba   \n",
       "\n",
       "    capital_gain  capital_loss  hours_week  over_50k  \n",
       "id                                                    \n",
       "1           2174             0          40         0  \n",
       "2              0             0          13         0  \n",
       "3              0             0          40         0  \n",
       "4              0             0          40         0  \n",
       "5              0             0          40         0  "
      ]
     },
     "execution_count": 7,
     "metadata": {},
     "output_type": "execute_result"
    }
   ],
   "source": [
    "#Create \"flattened\" table\n",
    "records_joined = pd.read_sql_query(\"\"\"\n",
    "    SELECT records.id,\n",
    "        records.age,\n",
    "        workclasses.name as workclass, \n",
    "        education_levels.name as education_level, \n",
    "        education_num, \n",
    "        marital_statuses.name as marital_status,\n",
    "        occupations.name as occupation,\n",
    "        relationships.name as relationship,\n",
    "        races.name as race,\n",
    "        sexes.name as sex,\n",
    "        countries.name as country,\n",
    "        records.capital_gain,\n",
    "        records.capital_loss,\n",
    "        records.hours_week,\n",
    "        records.over_50k\n",
    "    FROM records \n",
    "    JOIN workclasses ON records.workclass_id = workclasses.id\n",
    "    JOIN education_levels ON records.education_level_id = education_levels.id\n",
    "    JOIN marital_statuses ON records.marital_status_id = marital_statuses.id\n",
    "    JOIN occupations ON records.occupation_id = occupations.id\n",
    "    JOIN relationships ON records.relationship_id = relationships.id\n",
    "    JOIN races ON records.race_id = races.id\n",
    "    JOIN sexes ON records.sex_id = sexes.id\n",
    "    JOIN countries ON records.country_id = countries.id;\"\"\", conn, index_col='id')\n",
    "records_joined.head()"
   ]
  },
  {
   "cell_type": "markdown",
   "metadata": {},
   "source": [
    "###Tasks 2 & 3:\n",
    "**Export the \"flattened\" table to a CSV file and import the \"flattened\" table (or CSV file) into your open source analytic environment of choice (R, Python, Java, etc.) and stage it for analysis.**\n",
    "\n",
    "Well, since we worked with the SQLite API in Python, we don't actually have to do these steps because we already have our data ready to go.  Go us!  But if we *did* need to write this file to a CSV, or read this file from a CSV, we could do that as follows."
   ]
  },
  {
   "cell_type": "code",
   "execution_count": 8,
   "metadata": {
    "collapsed": false
   },
   "outputs": [],
   "source": [
    "#When uncommented, this code writes the DataFrame to csv in the directory\n",
    "#records_joined.to_csv('records_joined.csv')\n",
    "\n",
    "#When uncommented, this code reads the csv file to a DataFrame\n",
    "#records_joined = pd.read_csv('records_joined.csv', index_col='id')"
   ]
  },
  {
   "cell_type": "markdown",
   "metadata": {},
   "source": [
    "###Task 4:\n",
    "**Perform some simple exploratory analysis and generate summary statistics to get a sense of what is in the data.**"
   ]
  },
  {
   "cell_type": "code",
   "execution_count": 9,
   "metadata": {
    "collapsed": false
   },
   "outputs": [
    {
     "data": {
      "text/html": [
       "<div>\n",
       "<table border=\"1\" class=\"dataframe\">\n",
       "  <thead>\n",
       "    <tr style=\"text-align: right;\">\n",
       "      <th></th>\n",
       "      <th>age</th>\n",
       "      <th>education_num</th>\n",
       "      <th>capital_gain</th>\n",
       "      <th>capital_loss</th>\n",
       "      <th>hours_week</th>\n",
       "      <th>over_50k</th>\n",
       "    </tr>\n",
       "  </thead>\n",
       "  <tbody>\n",
       "    <tr>\n",
       "      <th>count</th>\n",
       "      <td>48842.000000</td>\n",
       "      <td>48842.000000</td>\n",
       "      <td>48842.000000</td>\n",
       "      <td>48842.000000</td>\n",
       "      <td>48842.000000</td>\n",
       "      <td>48842.000000</td>\n",
       "    </tr>\n",
       "    <tr>\n",
       "      <th>mean</th>\n",
       "      <td>38.643585</td>\n",
       "      <td>10.078089</td>\n",
       "      <td>1079.067626</td>\n",
       "      <td>87.502314</td>\n",
       "      <td>40.422382</td>\n",
       "      <td>0.239282</td>\n",
       "    </tr>\n",
       "    <tr>\n",
       "      <th>std</th>\n",
       "      <td>13.710510</td>\n",
       "      <td>2.570973</td>\n",
       "      <td>7452.019058</td>\n",
       "      <td>403.004552</td>\n",
       "      <td>12.391444</td>\n",
       "      <td>0.426649</td>\n",
       "    </tr>\n",
       "    <tr>\n",
       "      <th>min</th>\n",
       "      <td>17.000000</td>\n",
       "      <td>1.000000</td>\n",
       "      <td>0.000000</td>\n",
       "      <td>0.000000</td>\n",
       "      <td>1.000000</td>\n",
       "      <td>0.000000</td>\n",
       "    </tr>\n",
       "    <tr>\n",
       "      <th>25%</th>\n",
       "      <td>28.000000</td>\n",
       "      <td>9.000000</td>\n",
       "      <td>0.000000</td>\n",
       "      <td>0.000000</td>\n",
       "      <td>40.000000</td>\n",
       "      <td>0.000000</td>\n",
       "    </tr>\n",
       "    <tr>\n",
       "      <th>50%</th>\n",
       "      <td>37.000000</td>\n",
       "      <td>10.000000</td>\n",
       "      <td>0.000000</td>\n",
       "      <td>0.000000</td>\n",
       "      <td>40.000000</td>\n",
       "      <td>0.000000</td>\n",
       "    </tr>\n",
       "    <tr>\n",
       "      <th>75%</th>\n",
       "      <td>48.000000</td>\n",
       "      <td>12.000000</td>\n",
       "      <td>0.000000</td>\n",
       "      <td>0.000000</td>\n",
       "      <td>45.000000</td>\n",
       "      <td>0.000000</td>\n",
       "    </tr>\n",
       "    <tr>\n",
       "      <th>max</th>\n",
       "      <td>90.000000</td>\n",
       "      <td>16.000000</td>\n",
       "      <td>99999.000000</td>\n",
       "      <td>4356.000000</td>\n",
       "      <td>99.000000</td>\n",
       "      <td>1.000000</td>\n",
       "    </tr>\n",
       "  </tbody>\n",
       "</table>\n",
       "</div>"
      ],
      "text/plain": [
       "                age  education_num  capital_gain  capital_loss    hours_week  \\\n",
       "count  48842.000000   48842.000000  48842.000000  48842.000000  48842.000000   \n",
       "mean      38.643585      10.078089   1079.067626     87.502314     40.422382   \n",
       "std       13.710510       2.570973   7452.019058    403.004552     12.391444   \n",
       "min       17.000000       1.000000      0.000000      0.000000      1.000000   \n",
       "25%       28.000000       9.000000      0.000000      0.000000     40.000000   \n",
       "50%       37.000000      10.000000      0.000000      0.000000     40.000000   \n",
       "75%       48.000000      12.000000      0.000000      0.000000     45.000000   \n",
       "max       90.000000      16.000000  99999.000000   4356.000000     99.000000   \n",
       "\n",
       "           over_50k  \n",
       "count  48842.000000  \n",
       "mean       0.239282  \n",
       "std        0.426649  \n",
       "min        0.000000  \n",
       "25%        0.000000  \n",
       "50%        0.000000  \n",
       "75%        0.000000  \n",
       "max        1.000000  "
      ]
     },
     "execution_count": 9,
     "metadata": {},
     "output_type": "execute_result"
    }
   ],
   "source": [
    "#Descriptive Statistics of Continuous Variables\n",
    "records_joined.describe()"
   ]
  },
  {
   "cell_type": "markdown",
   "metadata": {},
   "source": [
    "The above chart shows some of the most popular quantile measures for each *numeric* variable.  Based on the above, it appears that **23.9%** of individuals in our sample make over $50,000 annually.  Let's take a look at that in graphic form.  We can easily put together a quick bar chart using seaborn."
   ]
  },
  {
   "cell_type": "code",
   "execution_count": 10,
   "metadata": {
    "collapsed": false
   },
   "outputs": [
    {
     "data": {
      "text/plain": [
       "<matplotlib.axes._subplots.AxesSubplot at 0x1b581c50>"
      ]
     },
     "execution_count": 10,
     "metadata": {},
     "output_type": "execute_result"
    },
    {
     "data": {
      "image/png": "[encoded data removed]",
      "text/plain": [
       "<matplotlib.figure.Figure at 0x216db38>"
      ]
     },
     "metadata": {},
     "output_type": "display_data"
    }
   ],
   "source": [
    "#Distribution of over_50k\n",
    "import seaborn as sns\n",
    "import matplotlib.pyplot as plt\n",
    "%matplotlib inline\n",
    "\n",
    "f, ax = plt.subplots(figsize=(10, 5))\n",
    "sns.countplot(x='over_50k', data=records_joined)"
   ]
  },
  {
   "cell_type": "markdown",
   "metadata": {},
   "source": [
    "This in an of itself isn't that helpful though, because we need to understand what is driving the *difference* between those making over 50k versus those making under 50k.  So let's also start looking at the predictor variables.  First, age."
   ]
  },
  {
   "cell_type": "code",
   "execution_count": 11,
   "metadata": {
    "collapsed": false
   },
   "outputs": [
    {
     "data": {
      "text/plain": [
       "<matplotlib.axes._subplots.AxesSubplot at 0xae66358>"
      ]
     },
     "execution_count": 11,
     "metadata": {},
     "output_type": "execute_result"
    },
    {
     "data": {
      "image/png": "[encoded data removed]",
      "text/plain": [
       "<matplotlib.figure.Figure at 0x1b988f60>"
      ]
     },
     "metadata": {},
     "output_type": "display_data"
    }
   ],
   "source": [
    "#Distribution of Age\n",
    "f, ax = plt.subplots(figsize=(10, 5))\n",
    "sns.distplot(records_joined.age, kde=False, bins=14)\n",
    "#Note: 14 Bins for five-year increments"
   ]
  },
  {
   "cell_type": "markdown",
   "metadata": {},
   "source": [
    "The age of individuals in our data is centered around 35-40 and is heavily right-skewed, with observations as old as 90.  Next, let's look at how age plays a role in whether or not an individual exceeds the 50k benchmark."
   ]
  },
  {
   "cell_type": "code",
   "execution_count": 12,
   "metadata": {
    "collapsed": false
   },
   "outputs": [
    {
     "data": {
      "text/plain": [
       "<matplotlib.axes._subplots.AxesSubplot at 0x1bcb06a0>"
      ]
     },
     "execution_count": 12,
     "metadata": {},
     "output_type": "execute_result"
    },
    {
     "data": {
      "image/png": "[encoded data removed]",
      "text/plain": [
       "<matplotlib.figure.Figure at 0x1bcbb978>"
      ]
     },
     "metadata": {},
     "output_type": "display_data"
    }
   ],
   "source": [
    "#Boxplot of over_50k by age\n",
    "f, ax = plt.subplots(figsize=(10, 5))\n",
    "sns.boxplot(x='over_50k', y='age', data=records_joined)"
   ]
  },
  {
   "cell_type": "markdown",
   "metadata": {},
   "source": [
    "Based on this boxplot, there appears to be an association between age and whether or not an individual makes over $50,000.  Generally speaking, it appears older individuals are somewhat more likely than younger individuals to exceed this threshold.  Next, let's start looking at our categorical variables by examining work class."
   ]
  },
  {
   "cell_type": "code",
   "execution_count": 13,
   "metadata": {
    "collapsed": false
   },
   "outputs": [
    {
     "data": {
      "text/plain": [
       "<matplotlib.axes._subplots.AxesSubplot at 0x1b5c1f28>"
      ]
     },
     "execution_count": 13,
     "metadata": {},
     "output_type": "execute_result"
    },
    {
     "data": {
      "image/png": "[encoded data removed]",
      "text/plain": [
       "<matplotlib.figure.Figure at 0x1bf1ce48>"
      ]
     },
     "metadata": {},
     "output_type": "display_data"
    }
   ],
   "source": [
    "#Bar Chart - Percent of Each Work Class Exceeding 50k\n",
    "f, ax = plt.subplots(figsize=(15, 5))\n",
    "\n",
    "sns.barplot(x='workclass', y='over_50k', data=records_joined, order=['?', 'Never-worked', 'Without-pay', 'Private', 'Local-gov', \n",
    "                                                                     'State-gov','Federal-gov', 'Self-emp-not-inc', 'Self-emp-inc'])"
   ]
  },
  {
   "cell_type": "markdown",
   "metadata": {},
   "source": [
    "This chart introduces a few problems.  First, we have a number of unknown values as denoted by the \"**?**\" symbol.  Additionally, as there are **0** individuals in the \"**Never-worked**\" bucket making at least 50k, so we may need to take steps to avoid introducing *quasi-complete separation* to our model.  However, it does appear some work classes are much more likely to make 50k, including \"**self-emp-inc**.\"  What about education?"
   ]
  },
  {
   "cell_type": "code",
   "execution_count": 14,
   "metadata": {
    "collapsed": false
   },
   "outputs": [
    {
     "data": {
      "text/plain": [
       "<matplotlib.axes._subplots.AxesSubplot at 0x1c1c2ba8>"
      ]
     },
     "execution_count": 14,
     "metadata": {},
     "output_type": "execute_result"
    },
    {
     "data": {
      "image/png": "[encoded data removed]",
      "text/plain": [
       "<matplotlib.figure.Figure at 0x1c232710>"
      ]
     },
     "metadata": {},
     "output_type": "display_data"
    }
   ],
   "source": [
    "#Bar Chart - Percent of Each Education Level Exceeding 50k\n",
    "f, ax = plt.subplots(figsize=(16, 5))\n",
    "sns.barplot(x='education_level', y='over_50k', data=records_joined, order=['Preschool', '1st-4th', '5th-6th', '7th-8th', '9th', \n",
    "                                                                           '10th', '11th', '12th', 'HS-grad', 'Some-college', \n",
    "                                                                           'Assoc-voc', 'Assoc-acdm', 'Bachelors', 'Masters', \n",
    "                                                                           'Prof-school','Doctorate'])"
   ]
  },
  {
   "cell_type": "markdown",
   "metadata": {},
   "source": [
    "This graph indicates that there is a strong positive association between the education level of an individual and whether or not he or she makes over 50k.  For example, according to our graph over **70%** of individuals with a professional degree or a doctorate make more than the threshold.  Conversely, Less than **10%** of individuals who failed finish high school (no matter the grade in which he or she dropped out) exceed $50,000 in annual income.  Expressed as a numeric variable, it appears as the following."
   ]
  },
  {
   "cell_type": "code",
   "execution_count": 15,
   "metadata": {
    "collapsed": false
   },
   "outputs": [
    {
     "data": {
      "text/plain": [
       "<matplotlib.axes._subplots.AxesSubplot at 0x1eec6080>"
      ]
     },
     "execution_count": 15,
     "metadata": {},
     "output_type": "execute_result"
    },
    {
     "data": {
      "image/png": "[encoded data removed]",
      "text/plain": [
       "<matplotlib.figure.Figure at 0x1ed790f0>"
      ]
     },
     "metadata": {},
     "output_type": "display_data"
    }
   ],
   "source": [
    "#Boxplot of over_50k by education_num\n",
    "f, ax = plt.subplots(figsize=(10, 5))\n",
    "sns.boxplot(x='over_50k', y='education_num', data=records_joined)"
   ]
  },
  {
   "cell_type": "markdown",
   "metadata": {},
   "source": [
    "It's worth noting that the \"**education_num**\" variable is a numeric representation of the education level of an individual.  The variable value does not necessarily equate to years of schooling or anything like that--but higher numbers indicate additional education.  As you can see, users who make over 50k are generally more highly-educated than those that don't.  Next, marital status."
   ]
  },
  {
   "cell_type": "code",
   "execution_count": 16,
   "metadata": {
    "collapsed": false
   },
   "outputs": [
    {
     "data": {
      "text/plain": [
       "<matplotlib.axes._subplots.AxesSubplot at 0x1ef26470>"
      ]
     },
     "execution_count": 16,
     "metadata": {},
     "output_type": "execute_result"
    },
    {
     "data": {
      "image/png": "[encoded data removed]",
      "text/plain": [
       "<matplotlib.figure.Figure at 0x1f1700f0>"
      ]
     },
     "metadata": {},
     "output_type": "display_data"
    }
   ],
   "source": [
    "#Bar Chart - Percent of Each Marital Status Exceeding 50k\n",
    "f, ax = plt.subplots(figsize=(15, 5))\n",
    "sns.barplot(x='marital_status', y='over_50k', data=records_joined, order=['Never-married', 'Separated', 'Widowed', 'Divorced',\n",
    "                                                                         'Married-spouse-absent', 'Married-AF-spouse',\n",
    "                                                                         'Married-civ-spouse'])"
   ]
  },
  {
   "cell_type": "markdown",
   "metadata": {},
   "source": [
    "It appears that those who are happily married are much more likely to make over 50k (whether they are armed forces or civilians).  Note that the confidence interval for **\"Married-AF-spouse\"** is very wide because there are not many observations that fall into that category, so we are less certain of the true value of the population mean.  What about Job Type?"
   ]
  },
  {
   "cell_type": "code",
   "execution_count": 17,
   "metadata": {
    "collapsed": false
   },
   "outputs": [
    {
     "data": {
      "text/plain": [
       "<matplotlib.axes._subplots.AxesSubplot at 0x1f0f7400>"
      ]
     },
     "execution_count": 17,
     "metadata": {},
     "output_type": "execute_result"
    },
    {
     "data": {
      "image/png": "[encoded data removed]",
      "text/plain": [
       "<matplotlib.figure.Figure at 0x1f1034e0>"
      ]
     },
     "metadata": {},
     "output_type": "display_data"
    }
   ],
   "source": [
    "#Bar Chart - Percent of Each Occupation Exceeding 50k\n",
    "f, ax = plt.subplots(figsize=(21, 5))\n",
    "sns.barplot(x='occupation', y='over_50k', data=records_joined, order=['?', 'Priv-house-serv', 'Other-service', 'Handlers-cleaners',\n",
    "                                                                     'Farming-fishing', 'Machine-op-inspct','Adm-clerical', \n",
    "                                                                     'Transport-moving', 'Craft-repair', 'Sales', 'Tech-support',\n",
    "                                                                     'Protective-serv', 'Armed-Forces', 'Prof-specialty', 'Exec-managerial'])"
   ]
  },
  {
   "cell_type": "markdown",
   "metadata": {},
   "source": [
    "A few things to note regarding occupation.  First, there are more unknown values denoted by the \"**?**\" bucket.  Additionally, job title seems to make a huge difference in terms of whether or not an individual makes more or less than the 50k benchmark. For instance, almost **half** of individuals in the \"**Exec-managerial**\" bucket exceed 50k in earnings whereas \"**Handlers-cleaners**\" only exceed the benchmark **7-8%** of the time.  Next, let's look at relationship status."
   ]
  },
  {
   "cell_type": "code",
   "execution_count": 18,
   "metadata": {
    "collapsed": false
   },
   "outputs": [
    {
     "data": {
      "text/plain": [
       "<matplotlib.axes._subplots.AxesSubplot at 0x1f103f98>"
      ]
     },
     "execution_count": 18,
     "metadata": {},
     "output_type": "execute_result"
    },
    {
     "data": {
      "image/png": "[encoded data removed]",
      "text/plain": [
       "<matplotlib.figure.Figure at 0x1f0dda58>"
      ]
     },
     "metadata": {},
     "output_type": "display_data"
    }
   ],
   "source": [
    "#Bar Chart - Percent of Each Relationship Status Exceeding 50k\n",
    "f, ax = plt.subplots(figsize=(15, 5))\n",
    "sns.barplot(x='relationship', y='over_50k', data=records_joined, order=['Own-child', 'Other-relative', 'Unmarried', 'Not-in-family',\n",
    "                                                                       'Husband', 'Wife'])"
   ]
  },
  {
   "cell_type": "markdown",
   "metadata": {},
   "source": [
    "According to our graph, husbands and wives are significantly more likely to make at least 50k a year as compared to those individuals who are not married.  This reaffirms our findings earlier re: marital status."
   ]
  },
  {
   "cell_type": "code",
   "execution_count": 19,
   "metadata": {
    "collapsed": false,
    "scrolled": true
   },
   "outputs": [
    {
     "data": {
      "text/plain": [
       "<matplotlib.axes._subplots.AxesSubplot at 0x1f7f15c0>"
      ]
     },
     "execution_count": 19,
     "metadata": {},
     "output_type": "execute_result"
    },
    {
     "data": {
      "image/png": "[encoded data removed]",
      "text/plain": [
       "<matplotlib.figure.Figure at 0x1f800ac8>"
      ]
     },
     "metadata": {},
     "output_type": "display_data"
    }
   ],
   "source": [
    "#Bar Chart - Percent of Each Race Exceeding 50k\n",
    "f, ax = plt.subplots(figsize=(15, 5))\n",
    "sns.barplot(x='race', y='over_50k', data=records_joined, order=['Other', 'Amer-Indian-Eskimo', 'Black', 'White', 'Asian-Pac-Islander'])"
   ]
  },
  {
   "cell_type": "markdown",
   "metadata": {},
   "source": [
    "Our chart indicates that individuals who are Asian/Pacific Islander or White are more likely to make at least 50k than other ethnicities.  Next, let's look at gender breakdown."
   ]
  },
  {
   "cell_type": "code",
   "execution_count": 20,
   "metadata": {
    "collapsed": false
   },
   "outputs": [
    {
     "data": {
      "text/plain": [
       "<matplotlib.axes._subplots.AxesSubplot at 0x1fa66908>"
      ]
     },
     "execution_count": 20,
     "metadata": {},
     "output_type": "execute_result"
    },
    {
     "data": {
      "image/png": "[encoded data removed]",
      "text/plain": [
       "<matplotlib.figure.Figure at 0x1fc29cc0>"
      ]
     },
     "metadata": {},
     "output_type": "display_data"
    }
   ],
   "source": [
    "#Distribution of Gender\n",
    "f, ax = plt.subplots(figsize=(15, 5))\n",
    "sns.countplot(x='sex', data=records_joined)"
   ]
  },
  {
   "cell_type": "markdown",
   "metadata": {},
   "source": [
    "According to our the chart, our data set includes roughly twice as many male observations as female observations."
   ]
  },
  {
   "cell_type": "code",
   "execution_count": 21,
   "metadata": {
    "collapsed": false
   },
   "outputs": [
    {
     "data": {
      "text/plain": [
       "<matplotlib.axes._subplots.AxesSubplot at 0x1fb8f080>"
      ]
     },
     "execution_count": 21,
     "metadata": {},
     "output_type": "execute_result"
    },
    {
     "data": {
      "image/png": "[encoded data removed]",
      "text/plain": [
       "<matplotlib.figure.Figure at 0x1fd23358>"
      ]
     },
     "metadata": {},
     "output_type": "display_data"
    }
   ],
   "source": [
    "#Bar Chart - Percent of each Gender Exceeding 50k\n",
    "f, ax = plt.subplots(figsize=(15, 5))\n",
    "sns.barplot(x='sex', y='over_50k', data=records_joined)"
   ]
  },
  {
   "cell_type": "markdown",
   "metadata": {},
   "source": [
    "Additionally, males appear more than twice as likely to earn more than $50,000, as over **30%** of men clear this benchmark whereas only **~11%** of women make that much.  Next, let's look at native country."
   ]
  },
  {
   "cell_type": "code",
   "execution_count": 22,
   "metadata": {
    "collapsed": false
   },
   "outputs": [
    {
     "data": {
      "text/plain": [
       "<matplotlib.axes._subplots.AxesSubplot at 0x1fd9c470>"
      ]
     },
     "execution_count": 22,
     "metadata": {},
     "output_type": "execute_result"
    },
    {
     "data": {
      "image/png": "[encoded data removed]",
      "text/plain": [
       "<matplotlib.figure.Figure at 0x1ff95518>"
      ]
     },
     "metadata": {},
     "output_type": "display_data"
    }
   ],
   "source": [
    "#Distribution of Country\n",
    "country_count = records_joined['country'].value_counts() #Note this counts the number of occurences of each country\n",
    "\n",
    "#Because there are so many countries represented (42!) we only want to graph the top 10\n",
    "f, ax = plt.subplots(figsize=(15, 5))\n",
    "sns.countplot(x=\"country\", data=records_joined, order=country_count.index[0:10])"
   ]
  },
  {
   "cell_type": "markdown",
   "metadata": {},
   "source": [
    "The United States is overwhelmingly the most-represented native country in our data set, comprising almost 90% of all observations.  Because there is such little variance to be captured in this variable, it will likely not be useful from a predictive modeling standpoint.  Next let's look at the continuous variables, \"**capital_gain**\" and \"**capital_loss**.\""
   ]
  },
  {
   "cell_type": "code",
   "execution_count": 30,
   "metadata": {
    "collapsed": false
   },
   "outputs": [
    {
     "data": {
      "text/plain": [
       "<matplotlib.axes._subplots.AxesSubplot at 0x53adb4a8>"
      ]
     },
     "execution_count": 30,
     "metadata": {},
     "output_type": "execute_result"
    },
    {
     "data": {
      "image/png": "[encoded data removed]",
      "text/plain": [
       "<matplotlib.figure.Figure at 0x53ae61d0>"
      ]
     },
     "metadata": {},
     "output_type": "display_data"
    }
   ],
   "source": [
    "#Distribution of Capital Gain\n",
    "f, ax = plt.subplots(figsize=(10, 5))\n",
    "sns.distplot(records_joined['capital_gain'], kde=False, bins=20)"
   ]
  },
  {
   "cell_type": "markdown",
   "metadata": {},
   "source": [
    "As the graph demonstrates, over **90%** of the individuals in our data set had a $0 in capital gains.  Again, since there is very little variance to be captured by this variable, it will likely not be used in our model."
   ]
  },
  {
   "cell_type": "code",
   "execution_count": 35,
   "metadata": {
    "collapsed": false
   },
   "outputs": [
    {
     "data": {
      "text/plain": [
       "<matplotlib.axes._subplots.AxesSubplot at 0x539dcb38>"
      ]
     },
     "execution_count": 35,
     "metadata": {},
     "output_type": "execute_result"
    },
    {
     "data": {
      "image/png": "[encoded data removed]",
      "text/plain": [
       "<matplotlib.figure.Figure at 0x52c10828>"
      ]
     },
     "metadata": {},
     "output_type": "display_data"
    }
   ],
   "source": [
    "#Distribution of Capital Loss\n",
    "f, ax = plt.subplots(figsize=(10, 5))\n",
    "sns.distplot(records_joined['capital_loss'], kde=False, bins=20)"
   ]
  },
  {
   "cell_type": "markdown",
   "metadata": {},
   "source": [
    "Similarly, over **90%** of the individuals in our data set had a $0 in capital losses. As such, we will likely preclude this variable from our model.  Finally, let's look at hours per week and how that affects an individual's earnings."
   ]
  },
  {
   "cell_type": "code",
   "execution_count": 47,
   "metadata": {
    "collapsed": false
   },
   "outputs": [
    {
     "data": {
      "text/plain": [
       "<matplotlib.axes._subplots.AxesSubplot at 0x54793518>"
      ]
     },
     "execution_count": 47,
     "metadata": {},
     "output_type": "execute_result"
    },
    {
     "data": {
      "image/png": "[encoded data removed]",
      "text/plain": [
       "<matplotlib.figure.Figure at 0x54793198>"
      ]
     },
     "metadata": {},
     "output_type": "display_data"
    }
   ],
   "source": [
    "# Distribution of Hours per Week\n",
    "f, ax = plt.subplots(figsize=(10, 5))\n",
    "sns.distplot(records_joined['hours_week'], kde=False, bins=10)"
   ]
  },
  {
   "cell_type": "markdown",
   "metadata": {},
   "source": [
    "According to our histogram, a huge proportion (almost half) of workers report 40 hour workweeks. However, many employees also report working longer hours, as the distribution appears slightly right-skewed.  Let's see how \"**hours_week**\" affects a worker's earnings."
   ]
  },
  {
   "cell_type": "code",
   "execution_count": 48,
   "metadata": {
    "collapsed": false
   },
   "outputs": [
    {
     "data": {
      "text/plain": [
       "<matplotlib.axes._subplots.AxesSubplot at 0x54ac4a90>"
      ]
     },
     "execution_count": 48,
     "metadata": {},
     "output_type": "execute_result"
    },
    {
     "data": {
      "image/png": "[encoded data removed]",
      "text/plain": [
       "<matplotlib.figure.Figure at 0x54a9d7f0>"
      ]
     },
     "metadata": {},
     "output_type": "display_data"
    }
   ],
   "source": [
    "#Boxplot of over_50k by Hours per Week\n",
    "f, ax = plt.subplots(figsize=(10, 5))\n",
    "sns.boxplot(x='over_50k', y='hours_week', data=records_joined)"
   ]
  },
  {
   "cell_type": "markdown",
   "metadata": {},
   "source": [
    "Based on the chart, it appears there is a positive association between hours worked per week and an individual's ability to earn at least $50,000."
   ]
  },
  {
   "cell_type": "markdown",
   "metadata": {},
   "source": [
    "###Task 5:\n",
    "**Split the data into training, validation, and test data sets.**\n",
    "\n",
    "The scikit-learn cross validation module has a function called \"train_test_split\" that can split our data into training and validation sets with one line of code.  Below, we split out a 25% validation sample to evaluate our models."
   ]
  },
  {
   "cell_type": "code",
   "execution_count": 233,
   "metadata": {
    "collapsed": false
   },
   "outputs": [],
   "source": [
    "# Split into Feature Matrix and Target Variable Array\n",
    "from sklearn import cross_validation\n",
    "y = records_joined['over_50k']\n",
    "X = records_joined.drop(['over_50k'], axis=1)\n",
    "\n",
    "# Split Training Data Into Training and Validation\n",
    "X_train, X_validation, y_train, y_validation = cross_validation.train_test_split(X, y, test_size = 0.25, random_state = 5)"
   ]
  },
  {
   "cell_type": "markdown",
   "metadata": {},
   "source": [
    "###Task 6:\n",
    "**Develop a model that predicts whether individuals, based on the census variables provided, make over \\$50,000/year.** \n",
    "\n",
    "First, we need to talk about *feature selection*.  As I've mentioned periodically throughout our descriptive statistics section, several variables look like great candidates to be dropped from the model:\n",
    "* \"**education_level_id**\"\n",
    "  * This variable is perfectly correlated with the \"**education_num**\" variable.  As such, since both convey the exact same information, we can drop one.\n",
    "* \"**country_id**\"\n",
    "  * Since over 90% of the individuals in our sample are from the U.S. this variable likely provides little predictive power.\n",
    "* \"**relationship_id**\"\n",
    "  * Majority of the relevant information here is either captured by \"**marital_status**\" or \"**sex**\" so we can drop.\n",
    "* \"**capital_gain**\"\n",
    "  * Since over 90% of the individuals in our sample had no capital gains this variable likely provides little predictive power.\n",
    "* \"**capital_loss**\"\n",
    "  * Since over 90% of the individuals in our sample had no capital losses this variable likely provides little predictive power."
   ]
  },
  {
   "cell_type": "code",
   "execution_count": 234,
   "metadata": {
    "collapsed": false,
    "scrolled": false
   },
   "outputs": [
    {
     "data": {
      "text/html": [
       "<div>\n",
       "<table border=\"1\" class=\"dataframe\">\n",
       "  <thead>\n",
       "    <tr style=\"text-align: right;\">\n",
       "      <th></th>\n",
       "      <th>age</th>\n",
       "      <th>workclass</th>\n",
       "      <th>education_num</th>\n",
       "      <th>marital_status</th>\n",
       "      <th>occupation</th>\n",
       "      <th>race</th>\n",
       "      <th>sex</th>\n",
       "      <th>hours_week</th>\n",
       "    </tr>\n",
       "    <tr>\n",
       "      <th>id</th>\n",
       "      <th></th>\n",
       "      <th></th>\n",
       "      <th></th>\n",
       "      <th></th>\n",
       "      <th></th>\n",
       "      <th></th>\n",
       "      <th></th>\n",
       "      <th></th>\n",
       "    </tr>\n",
       "  </thead>\n",
       "  <tbody>\n",
       "    <tr>\n",
       "      <th>23659</th>\n",
       "      <td>48</td>\n",
       "      <td>Private</td>\n",
       "      <td>10</td>\n",
       "      <td>Divorced</td>\n",
       "      <td>Sales</td>\n",
       "      <td>White</td>\n",
       "      <td>Male</td>\n",
       "      <td>45</td>\n",
       "    </tr>\n",
       "    <tr>\n",
       "      <th>25433</th>\n",
       "      <td>48</td>\n",
       "      <td>Local-gov</td>\n",
       "      <td>13</td>\n",
       "      <td>Married-civ-spouse</td>\n",
       "      <td>Prof-specialty</td>\n",
       "      <td>White</td>\n",
       "      <td>Male</td>\n",
       "      <td>40</td>\n",
       "    </tr>\n",
       "    <tr>\n",
       "      <th>26887</th>\n",
       "      <td>48</td>\n",
       "      <td>State-gov</td>\n",
       "      <td>15</td>\n",
       "      <td>Married-civ-spouse</td>\n",
       "      <td>Prof-specialty</td>\n",
       "      <td>White</td>\n",
       "      <td>Male</td>\n",
       "      <td>50</td>\n",
       "    </tr>\n",
       "    <tr>\n",
       "      <th>38468</th>\n",
       "      <td>25</td>\n",
       "      <td>Federal-gov</td>\n",
       "      <td>10</td>\n",
       "      <td>Married-civ-spouse</td>\n",
       "      <td>Craft-repair</td>\n",
       "      <td>White</td>\n",
       "      <td>Male</td>\n",
       "      <td>40</td>\n",
       "    </tr>\n",
       "    <tr>\n",
       "      <th>37828</th>\n",
       "      <td>40</td>\n",
       "      <td>Private</td>\n",
       "      <td>14</td>\n",
       "      <td>Married-civ-spouse</td>\n",
       "      <td>Exec-managerial</td>\n",
       "      <td>White</td>\n",
       "      <td>Male</td>\n",
       "      <td>50</td>\n",
       "    </tr>\n",
       "  </tbody>\n",
       "</table>\n",
       "</div>"
      ],
      "text/plain": [
       "       age    workclass  education_num      marital_status       occupation  \\\n",
       "id                                                                            \n",
       "23659   48      Private             10            Divorced            Sales   \n",
       "25433   48    Local-gov             13  Married-civ-spouse   Prof-specialty   \n",
       "26887   48    State-gov             15  Married-civ-spouse   Prof-specialty   \n",
       "38468   25  Federal-gov             10  Married-civ-spouse     Craft-repair   \n",
       "37828   40      Private             14  Married-civ-spouse  Exec-managerial   \n",
       "\n",
       "        race   sex  hours_week  \n",
       "id                              \n",
       "23659  White  Male          45  \n",
       "25433  White  Male          40  \n",
       "26887  White  Male          50  \n",
       "38468  White  Male          40  \n",
       "37828  White  Male          50  "
      ]
     },
     "execution_count": 234,
     "metadata": {},
     "output_type": "execute_result"
    }
   ],
   "source": [
    "#Drops unwanted features from the model\n",
    "X_train = X_train.drop(['education_level', 'country', 'relationship', 'capital_gain', 'capital_loss'], axis=1)\n",
    "X_validation = X_validation.drop(['education_level', 'country', 'relationship', 'capital_gain', 'capital_loss'], axis=1)\n",
    "\n",
    "X_train.head()"
   ]
  },
  {
   "cell_type": "markdown",
   "metadata": {},
   "source": [
    "Scikit-learn doesn't play nice with non-numeric data.  However, we can't just label each level of the categorical variables as integers, because then the model algorithm will treat those variables as continuous.  As such, we must encode these variables as *dummy variables*.  Below is some code to define a function to do just that.  "
   ]
  },
  {
   "cell_type": "code",
   "execution_count": 239,
   "metadata": {
    "collapsed": false,
    "scrolled": true
   },
   "outputs": [],
   "source": [
    "#Create function to define dummy variables, drop the last dummy, and add to dataframe\n",
    "def dummy_code(df, column):\n",
    "    dummies = pd.get_dummies(df[column], prefix=column)\n",
    "    dummies = dummies.iloc[:, :len(dummies.columns)-1]\n",
    "    df = pd.concat([df, dummies], axis=1)\n",
    "    df = df.drop(column, axis=1)\n",
    "    return df"
   ]
  },
  {
   "cell_type": "markdown",
   "metadata": {},
   "source": [
    "Now that we've defined our function, we can apply it to our model data as follows."
   ]
  },
  {
   "cell_type": "code",
   "execution_count": 242,
   "metadata": {
    "collapsed": false
   },
   "outputs": [
    {
     "data": {
      "text/html": [
       "<div>\n",
       "<table border=\"1\" class=\"dataframe\">\n",
       "  <thead>\n",
       "    <tr style=\"text-align: right;\">\n",
       "      <th></th>\n",
       "      <th>age</th>\n",
       "      <th>education_num</th>\n",
       "      <th>hours_week</th>\n",
       "      <th>workclass_?</th>\n",
       "      <th>workclass_Federal-gov</th>\n",
       "      <th>workclass_Local-gov</th>\n",
       "      <th>workclass_Never-worked</th>\n",
       "      <th>workclass_Private</th>\n",
       "      <th>workclass_Self-emp-inc</th>\n",
       "      <th>workclass_Self-emp-not-inc</th>\n",
       "      <th>...</th>\n",
       "      <th>occupation_Priv-house-serv</th>\n",
       "      <th>occupation_Prof-specialty</th>\n",
       "      <th>occupation_Protective-serv</th>\n",
       "      <th>occupation_Sales</th>\n",
       "      <th>occupation_Tech-support</th>\n",
       "      <th>race_Amer-Indian-Eskimo</th>\n",
       "      <th>race_Asian-Pac-Islander</th>\n",
       "      <th>race_Black</th>\n",
       "      <th>race_Other</th>\n",
       "      <th>sex_Female</th>\n",
       "    </tr>\n",
       "    <tr>\n",
       "      <th>id</th>\n",
       "      <th></th>\n",
       "      <th></th>\n",
       "      <th></th>\n",
       "      <th></th>\n",
       "      <th></th>\n",
       "      <th></th>\n",
       "      <th></th>\n",
       "      <th></th>\n",
       "      <th></th>\n",
       "      <th></th>\n",
       "      <th></th>\n",
       "      <th></th>\n",
       "      <th></th>\n",
       "      <th></th>\n",
       "      <th></th>\n",
       "      <th></th>\n",
       "      <th></th>\n",
       "      <th></th>\n",
       "      <th></th>\n",
       "      <th></th>\n",
       "      <th></th>\n",
       "    </tr>\n",
       "  </thead>\n",
       "  <tbody>\n",
       "    <tr>\n",
       "      <th>23659</th>\n",
       "      <td>48</td>\n",
       "      <td>10</td>\n",
       "      <td>45</td>\n",
       "      <td>0</td>\n",
       "      <td>0</td>\n",
       "      <td>0</td>\n",
       "      <td>0</td>\n",
       "      <td>1</td>\n",
       "      <td>0</td>\n",
       "      <td>0</td>\n",
       "      <td>...</td>\n",
       "      <td>0</td>\n",
       "      <td>0</td>\n",
       "      <td>0</td>\n",
       "      <td>1</td>\n",
       "      <td>0</td>\n",
       "      <td>0</td>\n",
       "      <td>0</td>\n",
       "      <td>0</td>\n",
       "      <td>0</td>\n",
       "      <td>0</td>\n",
       "    </tr>\n",
       "    <tr>\n",
       "      <th>25433</th>\n",
       "      <td>48</td>\n",
       "      <td>13</td>\n",
       "      <td>40</td>\n",
       "      <td>0</td>\n",
       "      <td>0</td>\n",
       "      <td>1</td>\n",
       "      <td>0</td>\n",
       "      <td>0</td>\n",
       "      <td>0</td>\n",
       "      <td>0</td>\n",
       "      <td>...</td>\n",
       "      <td>0</td>\n",
       "      <td>1</td>\n",
       "      <td>0</td>\n",
       "      <td>0</td>\n",
       "      <td>0</td>\n",
       "      <td>0</td>\n",
       "      <td>0</td>\n",
       "      <td>0</td>\n",
       "      <td>0</td>\n",
       "      <td>0</td>\n",
       "    </tr>\n",
       "    <tr>\n",
       "      <th>26887</th>\n",
       "      <td>48</td>\n",
       "      <td>15</td>\n",
       "      <td>50</td>\n",
       "      <td>0</td>\n",
       "      <td>0</td>\n",
       "      <td>0</td>\n",
       "      <td>0</td>\n",
       "      <td>0</td>\n",
       "      <td>0</td>\n",
       "      <td>0</td>\n",
       "      <td>...</td>\n",
       "      <td>0</td>\n",
       "      <td>1</td>\n",
       "      <td>0</td>\n",
       "      <td>0</td>\n",
       "      <td>0</td>\n",
       "      <td>0</td>\n",
       "      <td>0</td>\n",
       "      <td>0</td>\n",
       "      <td>0</td>\n",
       "      <td>0</td>\n",
       "    </tr>\n",
       "    <tr>\n",
       "      <th>38468</th>\n",
       "      <td>25</td>\n",
       "      <td>10</td>\n",
       "      <td>40</td>\n",
       "      <td>0</td>\n",
       "      <td>1</td>\n",
       "      <td>0</td>\n",
       "      <td>0</td>\n",
       "      <td>0</td>\n",
       "      <td>0</td>\n",
       "      <td>0</td>\n",
       "      <td>...</td>\n",
       "      <td>0</td>\n",
       "      <td>0</td>\n",
       "      <td>0</td>\n",
       "      <td>0</td>\n",
       "      <td>0</td>\n",
       "      <td>0</td>\n",
       "      <td>0</td>\n",
       "      <td>0</td>\n",
       "      <td>0</td>\n",
       "      <td>0</td>\n",
       "    </tr>\n",
       "    <tr>\n",
       "      <th>37828</th>\n",
       "      <td>40</td>\n",
       "      <td>14</td>\n",
       "      <td>50</td>\n",
       "      <td>0</td>\n",
       "      <td>0</td>\n",
       "      <td>0</td>\n",
       "      <td>0</td>\n",
       "      <td>1</td>\n",
       "      <td>0</td>\n",
       "      <td>0</td>\n",
       "      <td>...</td>\n",
       "      <td>0</td>\n",
       "      <td>0</td>\n",
       "      <td>0</td>\n",
       "      <td>0</td>\n",
       "      <td>0</td>\n",
       "      <td>0</td>\n",
       "      <td>0</td>\n",
       "      <td>0</td>\n",
       "      <td>0</td>\n",
       "      <td>0</td>\n",
       "    </tr>\n",
       "  </tbody>\n",
       "</table>\n",
       "<p>5 rows × 36 columns</p>\n",
       "</div>"
      ],
      "text/plain": [
       "       age  education_num  hours_week  workclass_?  workclass_Federal-gov  \\\n",
       "id                                                                          \n",
       "23659   48             10          45            0                      0   \n",
       "25433   48             13          40            0                      0   \n",
       "26887   48             15          50            0                      0   \n",
       "38468   25             10          40            0                      1   \n",
       "37828   40             14          50            0                      0   \n",
       "\n",
       "       workclass_Local-gov  workclass_Never-worked  workclass_Private  \\\n",
       "id                                                                      \n",
       "23659                    0                       0                  1   \n",
       "25433                    1                       0                  0   \n",
       "26887                    0                       0                  0   \n",
       "38468                    0                       0                  0   \n",
       "37828                    0                       0                  1   \n",
       "\n",
       "       workclass_Self-emp-inc  workclass_Self-emp-not-inc     ...      \\\n",
       "id                                                            ...       \n",
       "23659                       0                           0     ...       \n",
       "25433                       0                           0     ...       \n",
       "26887                       0                           0     ...       \n",
       "38468                       0                           0     ...       \n",
       "37828                       0                           0     ...       \n",
       "\n",
       "       occupation_Priv-house-serv  occupation_Prof-specialty  \\\n",
       "id                                                             \n",
       "23659                           0                          0   \n",
       "25433                           0                          1   \n",
       "26887                           0                          1   \n",
       "38468                           0                          0   \n",
       "37828                           0                          0   \n",
       "\n",
       "       occupation_Protective-serv  occupation_Sales  occupation_Tech-support  \\\n",
       "id                                                                             \n",
       "23659                           0                 1                        0   \n",
       "25433                           0                 0                        0   \n",
       "26887                           0                 0                        0   \n",
       "38468                           0                 0                        0   \n",
       "37828                           0                 0                        0   \n",
       "\n",
       "       race_Amer-Indian-Eskimo  race_Asian-Pac-Islander  race_Black  \\\n",
       "id                                                                    \n",
       "23659                        0                        0           0   \n",
       "25433                        0                        0           0   \n",
       "26887                        0                        0           0   \n",
       "38468                        0                        0           0   \n",
       "37828                        0                        0           0   \n",
       "\n",
       "       race_Other  sex_Female  \n",
       "id                             \n",
       "23659           0           0  \n",
       "25433           0           0  \n",
       "26887           0           0  \n",
       "38468           0           0  \n",
       "37828           0           0  \n",
       "\n",
       "[5 rows x 36 columns]"
      ]
     },
     "execution_count": 242,
     "metadata": {},
     "output_type": "execute_result"
    }
   ],
   "source": [
    "#Apply dummy variable coding\n",
    "for column in ['workclass', 'marital_status', 'occupation', 'race', 'sex']:\n",
    "    X_train = dummy_code(X_train, column)\n",
    "    X_validation = dummy_code(X_validation, column)\n",
    "\n",
    "#Show data set with dummy coding\n",
    "X_train.head()"
   ]
  },
  {
   "cell_type": "markdown",
   "metadata": {},
   "source": [
    "We now have our data ready for model building!  Three algorithms I like for classification problems are:\n",
    "* Logistic Regression\n",
    "* Random Forest\n",
    "* K-Nearest Neighbor\n",
    "\n",
    "An implementation of each of these algorithms is detailed below along with the model accuracy and c-statistic on our hold-out validation data set."
   ]
  },
  {
   "cell_type": "code",
   "execution_count": 246,
   "metadata": {
    "collapsed": false
   },
   "outputs": [
    {
     "name": "stdout",
     "output_type": "stream",
     "text": [
      "Logistic Regression Classification Accuracy: 0.835639996724\n",
      "Logistic Regression Area Under the Curve: 0.883983605637\n"
     ]
    }
   ],
   "source": [
    "# Logistic Regression\n",
    "\n",
    "# Fit the Model\n",
    "logreg = LogisticRegression()\n",
    "logreg.fit(X_train, y_train)\n",
    "\n",
    "# Make Predictions (Validation Set)\n",
    "logreg_pred = logreg.predict(X_validation)\n",
    "print 'Logistic Regression Classification Accuracy: ' + str(metrics.accuracy_score(y_validation, logreg_pred))\n",
    "logreg_pred_probs = logreg.predict_proba(X_validation)\n",
    "print 'Logistic Regression Area Under the Curve: ' + str(metrics.roc_auc_score(y_validation, logreg_pred_probs[:,1]))"
   ]
  },
  {
   "cell_type": "code",
   "execution_count": 251,
   "metadata": {
    "collapsed": false
   },
   "outputs": [
    {
     "name": "stdout",
     "output_type": "stream",
     "text": [
      "Random Forest Classification Accuracy: 0.818360494636\n",
      "Random Forest Area Under the Curve: 0.863808694677\n"
     ]
    }
   ],
   "source": [
    "# Random Forest\n",
    "from sklearn.ensemble import RandomForestClassifier\n",
    "\n",
    "# Fit the Model\n",
    "forest = RandomForestClassifier(n_estimators=100)\n",
    "forest.fit(X_train, y_train)\n",
    "\n",
    "# Make Predictions (Validation Set)\n",
    "forest_pred = forest.predict(X_validation)\n",
    "print 'Random Forest Classification Accuracy: ' + str(metrics.accuracy_score(y_validation, forest_pred))\n",
    "forest_pred_probs = forest.predict_proba(X_validation)\n",
    "print 'Random Forest Area Under the Curve: ' + str(metrics.roc_auc_score(y_validation, forest_pred_probs[:,1]))"
   ]
  },
  {
   "cell_type": "raw",
   "metadata": {},
   "source": [
    "# K-Nearest Neighbor\n",
    "from sklearn.neighbors import KNeighborsClassifier\n",
    "from sklearn.grid_search import GridSearchCV\n",
    "k_range = range(1, 31)\n",
    "\n",
    "# Instatiate KNN\n",
    "knn = KNeighborsClassifier()\n",
    "\n",
    "# Create a parameter grid: map the parameter names to the values that should be searched\n",
    "param_grid = dict(n_neighbors = k_range)\n",
    "\n",
    "# Instantiate the grid - NOTE: I should really be training this on ALL the data instead of just the training data \n",
    "#since we are using cross-validation; however, I'm only doing this to get an idea of the best value of k\n",
    "grid = GridSearchCV(knn, param_grid, cv=10, scoring='roc_auc')\n",
    "grid.fit(X_train, y_train)\n",
    "print grid.best_params_\n",
    "\n",
    "# Make Predictions (Validation Set)\n",
    "knn_pred = grid.predict(X_validation)\n",
    "print 'K-Nearest Neighbor Classification Accuracy: ' + str(metrics.accuracy_score(y_validation, knn_pred))\n",
    "knn_pred_probs = grid.predict_proba(X_validation)\n",
    "print 'K-Nearest Neighbor Area Under the Curve: ' + str(metrics.roc_auc_score(y_validation, knn_pred_probs[:,1]))"
   ]
  },
  {
   "cell_type": "markdown",
   "metadata": {},
   "source": [
    "So it looks like of the three models we built that Logistic Regression had the best classification rate and also the largest area under the curve.  Let's take a look at the confusion matrix for that model."
   ]
  },
  {
   "cell_type": "code",
   "execution_count": 281,
   "metadata": {
    "collapsed": false
   },
   "outputs": [
    {
     "name": "stdout",
     "output_type": "stream",
     "text": [
      "[[8606  681]\n",
      " [1326 1598]]\n"
     ]
    }
   ],
   "source": [
    "#Logistic Regression Confusion Matrix\n",
    "confusion = metrics.confusion_matrix(y_validation, logreg_pred)\n",
    "TP = confusion[1, 1]\n",
    "TN = confusion[0, 0]\n",
    "FP = confusion[0, 1]\n",
    "FN = confusion[1, 0]\n",
    "\n",
    "print confusion"
   ]
  },
  {
   "cell_type": "markdown",
   "metadata": {},
   "source": [
    "Using the default classification threshold of 0.5, it appears we are predicting more *false-negatives* than *false-positives*.  This means that our **sensitivity** (our ability to correctly predict events) is lower than our **specificity** (our ability to correctly predict non-events).  The calculations for these statistics are below."
   ]
  },
  {
   "cell_type": "code",
   "execution_count": 288,
   "metadata": {
    "collapsed": false
   },
   "outputs": [
    {
     "name": "stdout",
     "output_type": "stream",
     "text": [
      "Sensitivity: 0.546511627907\n",
      "Specificity: 0.926671691612\n"
     ]
    }
   ],
   "source": [
    "sensitivity = float(TP)/(TP+FN)\n",
    "specificity = float(TN)/(TN+FP)\n",
    "print 'Sensitivity: ' + str(sensitivity)\n",
    "print 'Specificity: ' + str(specificity)"
   ]
  },
  {
   "cell_type": "markdown",
   "metadata": {},
   "source": [
    "A ROC Curve of our final model is demonstrated below.  This curve represents the trade-off between our ability to predict events (individuals making at least 50k) versus our ability to predict non-events (individuals making less than 50k).  If we wanted a more *sensitive* model, we could decrease the classification threshold; however, this would lower the *specificity* or selectiveness of our model."
   ]
  },
  {
   "cell_type": "code",
   "execution_count": 295,
   "metadata": {
    "collapsed": false
   },
   "outputs": [
    {
     "data": {
      "image/png": "[encoded data removed]",
      "text/plain": [
       "<matplotlib.figure.Figure at 0x5ada0358>"
      ]
     },
     "metadata": {},
     "output_type": "display_data"
    }
   ],
   "source": [
    "fpr, tpr, thresholds = metrics.roc_curve(y_validation, logreg_pred_probs[:,1])\n",
    "plt.plot(fpr, tpr)\n",
    "plt.xlim([0.0, 1.0])\n",
    "plt.ylim([0.0, 1.0])\n",
    "plt.title('Roc Curve')\n",
    "plt.xlabel('False Positive Rate (1 - Specificity)')\n",
    "plt.ylabel('True Positive Rate (Sensitivity)')\n",
    "plt.grid(True)"
   ]
  }
 ],
 "metadata": {
  "kernelspec": {
   "display_name": "Python 2",
   "language": "python",
   "name": "python2"
  },
  "language_info": {
   "codemirror_mode": {
    "name": "ipython",
    "version": 2
   },
   "file_extension": ".py",
   "mimetype": "text/x-python",
   "name": "python",
   "nbconvert_exporter": "python",
   "pygments_lexer": "ipython2",
   "version": "2.7.10"
  }
 },
 "nbformat": 4,
 "nbformat_minor": 0
}
